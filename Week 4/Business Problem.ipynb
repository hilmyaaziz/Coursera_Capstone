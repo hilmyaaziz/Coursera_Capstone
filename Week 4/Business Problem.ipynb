{
 "cells": [
  {
   "cell_type": "markdown",
   "id": "useful-sodium",
   "metadata": {},
   "source": [
    "# The Battle of Neighborhoods"
   ]
  },
  {
   "cell_type": "markdown",
   "id": "israeli-trading",
   "metadata": {},
   "source": [
    "## Introduction"
   ]
  },
  {
   "cell_type": "markdown",
   "id": "mediterranean-pantyhose",
   "metadata": {},
   "source": [
    "This project is to help people that come to Toronto to find best neighborhood. Most of the people curious about the environment in their neighborhood such as the price of properties, the access of cafe, school, supermarket, healthcare, mall, theatre, hospital, etc.\n",
    "\n",
    "Through the analysis from the data, people can find best neighborhood that suitable with their preferences and get knowledge of the area. The features of this analysis include median housing price and better school according to ratings, crime rates of that particular area, road connectivity, weather conditions, good management for emergency, water resources both freash and waste water and excrement conveyed in sewers and recreational facilities.\n",
    "\n",
    "Specific location that will be elaborated in this project is Metropolitan Montreal as second biggest city in Canada after Toronto."
   ]
  },
  {
   "cell_type": "markdown",
   "id": "animated-sleeping",
   "metadata": {},
   "source": [
    "## Foursquare API"
   ]
  },
  {
   "cell_type": "markdown",
   "id": "still-toronto",
   "metadata": {},
   "source": [
    "Foursquare API features of near-by places of the neighborhoods would be used. Due to http request limitations, the number of places per neighborhood parameter would reasonably be set to 100 and the radius parameter would be set to 500."
   ]
  },
  {
   "cell_type": "markdown",
   "id": "electoral-technique",
   "metadata": {},
   "source": [
    "## Libraries"
   ]
  },
  {
   "cell_type": "markdown",
   "id": "universal-visit",
   "metadata": {},
   "source": [
    "Pandas: Dataframe purposes\n",
    "\n",
    "Folium: Python visualization library\n",
    "\n",
    "Scikit Learn: k-means clustering library\n",
    "\n",
    "JSON: Library to handle JSON files\n",
    "\n",
    "XML: To separate data from presentation and XML stores data in plain text format\n",
    "\n",
    "Geocoder: To retrieve Location Data\n",
    "\n",
    "Beautiful Soup and Requests: Scraping from web\n",
    "\n",
    "Matplotlib: Python plotting library"
   ]
  }
 ],
 "metadata": {
  "kernelspec": {
   "display_name": "Python 3",
   "language": "python",
   "name": "python3"
  },
  "language_info": {
   "codemirror_mode": {
    "name": "ipython",
    "version": 3
   },
   "file_extension": ".py",
   "mimetype": "text/x-python",
   "name": "python",
   "nbconvert_exporter": "python",
   "pygments_lexer": "ipython3",
   "version": "3.8.3"
  }
 },
 "nbformat": 4,
 "nbformat_minor": 5
}
